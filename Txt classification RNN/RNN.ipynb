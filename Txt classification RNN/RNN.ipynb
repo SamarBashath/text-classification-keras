{
 "cells": [
  {
   "cell_type": "markdown",
   "metadata": {},
   "source": [
    "### Text classification  using RNN"
   ]
  },
  {
   "cell_type": "code",
   "execution_count": 1,
   "metadata": {},
   "outputs": [
    {
     "name": "stderr",
     "output_type": "stream",
     "text": [
      "Using TensorFlow backend.\n"
     ]
    }
   ],
   "source": [
    "from __future__ import division, print_function\n",
    "from keras.callbacks import ModelCheckpoint\n",
    "from keras.layers import Dense, Dropout, Reshape, Flatten, concatenate, Input, Embedding\n",
    "from keras.layers.recurrent import LSTM\n",
    "from keras.models import Sequential\n",
    "from keras.preprocessing.text import Tokenizer\n",
    "from keras.preprocessing.sequence import pad_sequences\n",
    "from keras.models import Model\n",
    "from sklearn.model_selection import train_test_split\n",
    "import numpy as np\n",
    "import pandas as pd\n",
    "import os\n",
    "import collections\n",
    "import re\n",
    "import string\n",
    "import re\n",
    "import nltk\n",
    "vfrom nltk import word_tokenize\n",
    "from gensim import models\n",
    "import gensim.downloader as api\n",
    "from nltk.corpus import stopwords\n",
    "\n",
    "wv = api.load('word2vec-google-news-300')\n",
    "\n",
    "vec_king = wv['king']\n",
    "nltk.download('stopwords')\n"
   ]
  },
  {
   "cell_type": "markdown",
   "metadata": {},
   "source": [
    "Load the dataset"
   ]
  },
  {
   "cell_type": "code",
   "execution_count": 2,
   "metadata": {},
   "outputs": [
    {
     "name": "stdout",
     "output_type": "stream",
     "text": [
      "<bound method NDFrame.head of                          Property Name  Review_Rating  \\\n",
      "0               Apex London Wall Hotel              5   \n",
      "1               Corinthia Hotel London              5   \n",
      "2                            The Savoy              5   \n",
      "3                         Rhodes Hotel              4   \n",
      "4                            The Savoy              5   \n",
      "..                                 ...            ...   \n",
      "967                     The Dorchester              5   \n",
      "968             Apex London Wall Hotel              4   \n",
      "969                      The Rembrandt              3   \n",
      "970  Hotel Xenia, Autograph Collection              4   \n",
      "971             Corinthia Hotel London              5   \n",
      "\n",
      "                                     Review_Title  \\\n",
      "0                           Ottima qualità prezzo   \n",
      "1              By far, my best hotel in the world   \n",
      "2    First visit to the American Bar at the Savoy   \n",
      "3                                       Nice stay   \n",
      "4                                      Perfection   \n",
      "..                                            ...   \n",
      "967                      Exceptional - as always!   \n",
      "968    Eine echte Empfehlung in der Londoner City   \n",
      "969                      Très bien situé mais ...   \n",
      "970                               Pleasant Enough   \n",
      "971                              ideal for London   \n",
      "\n",
      "                                           Review_Text  \\\n",
      "0    Siamo stati a Londra per un week end ed abbiam...   \n",
      "1    I had a pleasure of staying in this hotel for ...   \n",
      "2    A very lovely first visit to this iconic hotel...   \n",
      "3    3 of us stayed at the Rhodes Hotel for 4 night...   \n",
      "4    Form the moment we arrived until we left we ex...   \n",
      "..                                                 ...   \n",
      "967  As always, we had a great time at The Dorchest...   \n",
      "968  Hotel liegt etwas versteckt und daher auch für...   \n",
      "969  Hôtel idéalement situé pour bien visiter pas m...   \n",
      "970  I requested a terrace room, it wasn't really a...   \n",
      "971  Great for the clever traveller. We booked thre...   \n",
      "\n",
      "      Location Of The Reviewer Date Of Review  \n",
      "0     Casale Monferrato, Italy     10/20/2012  \n",
      "1            Savannah, Georgia      3/23/2016  \n",
      "2                       London      7/30/2013  \n",
      "3                 Maui, Hawaii       6/2/2012  \n",
      "4       London, United Kingdom     11/24/2017  \n",
      "..                         ...            ...  \n",
      "967  Copthorne, United Kingdom      12/3/2013  \n",
      "968                       Köln      4/10/2017  \n",
      "969        Casablanca, Morocco      8/14/2018  \n",
      "970  Framingham, Massachusetts      4/30/2017  \n",
      "971  Cambridge, United Kingdom     12/27/2014  \n",
      "\n",
      "[972 rows x 6 columns]>\n"
     ]
    }
   ],
   "source": [
    "data = pd.read_csv ('hotel _eviews.csv',  engine='python')   \n",
    "print (data.head)"
   ]
  },
  {
   "cell_type": "markdown",
   "metadata": {},
   "source": [
    "Check if it has missing values"
   ]
  },
  {
   "cell_type": "code",
   "execution_count": 3,
   "metadata": {},
   "outputs": [
    {
     "data": {
      "text/plain": [
       "Property Name                 0\n",
       "Review_Rating                 0\n",
       "Review_Title                  0\n",
       "Review_Text                   0\n",
       "Location Of The Reviewer    102\n",
       "Date Of Review                0\n",
       "dtype: int64"
      ]
     },
     "execution_count": 3,
     "metadata": {},
     "output_type": "execute_result"
    }
   ],
   "source": [
    "data.isna().sum()\n",
    "\n"
   ]
  },
  {
   "cell_type": "markdown",
   "metadata": {},
   "source": [
    "Drop unnecessary columns"
   ]
  },
  {
   "cell_type": "code",
   "execution_count": 4,
   "metadata": {},
   "outputs": [],
   "source": [
    "data= data.drop('Location Of The Reviewer', 1)\n",
    "data= data.drop('Date Of Review', 1)\n"
   ]
  },
  {
   "cell_type": "code",
   "execution_count": 5,
   "metadata": {},
   "outputs": [
    {
     "name": "stdout",
     "output_type": "stream",
     "text": [
      "<bound method NDFrame.head of                          Property Name  Review_Rating  \\\n",
      "0               Apex London Wall Hotel              5   \n",
      "1               Corinthia Hotel London              5   \n",
      "2                            The Savoy              5   \n",
      "3                         Rhodes Hotel              4   \n",
      "4                            The Savoy              5   \n",
      "..                                 ...            ...   \n",
      "967                     The Dorchester              5   \n",
      "968             Apex London Wall Hotel              4   \n",
      "969                      The Rembrandt              3   \n",
      "970  Hotel Xenia, Autograph Collection              4   \n",
      "971             Corinthia Hotel London              5   \n",
      "\n",
      "                                     Review_Title  \\\n",
      "0                           Ottima qualità prezzo   \n",
      "1              By far, my best hotel in the world   \n",
      "2    First visit to the American Bar at the Savoy   \n",
      "3                                       Nice stay   \n",
      "4                                      Perfection   \n",
      "..                                            ...   \n",
      "967                      Exceptional - as always!   \n",
      "968    Eine echte Empfehlung in der Londoner City   \n",
      "969                      Très bien situé mais ...   \n",
      "970                               Pleasant Enough   \n",
      "971                              ideal for London   \n",
      "\n",
      "                                           Review_Text  \n",
      "0    Siamo stati a Londra per un week end ed abbiam...  \n",
      "1    I had a pleasure of staying in this hotel for ...  \n",
      "2    A very lovely first visit to this iconic hotel...  \n",
      "3    3 of us stayed at the Rhodes Hotel for 4 night...  \n",
      "4    Form the moment we arrived until we left we ex...  \n",
      "..                                                 ...  \n",
      "967  As always, we had a great time at The Dorchest...  \n",
      "968  Hotel liegt etwas versteckt und daher auch für...  \n",
      "969  Hôtel idéalement situé pour bien visiter pas m...  \n",
      "970  I requested a terrace room, it wasn't really a...  \n",
      "971  Great for the clever traveller. We booked thre...  \n",
      "\n",
      "[972 rows x 4 columns]>\n"
     ]
    }
   ],
   "source": [
    "print (data.head)"
   ]
  },
  {
   "cell_type": "markdown",
   "metadata": {},
   "source": [
    "Here we change review rating into 0 and 1"
   ]
  },
  {
   "cell_type": "code",
   "execution_count": 5,
   "metadata": {},
   "outputs": [],
   "source": [
    "data['Review_Rating'] = data['Review_Rating'].replace(1, 0)\n",
    "data['Review_Rating'] = data['Review_Rating'].replace(2, 0)\n",
    "data['Review_Rating'] = data['Review_Rating'].replace(3, 0)\n",
    "data['Review_Rating'] = data['Review_Rating'].replace(4, 1)\n",
    "data['Review_Rating'] = data['Review_Rating'].replace(5, 1)\n",
    "\n"
   ]
  },
  {
   "cell_type": "code",
   "execution_count": 7,
   "metadata": {},
   "outputs": [
    {
     "name": "stdout",
     "output_type": "stream",
     "text": [
      "<bound method NDFrame.head of                          Property Name  Review_Rating  \\\n",
      "0               Apex London Wall Hotel              1   \n",
      "1               Corinthia Hotel London              1   \n",
      "2                            The Savoy              1   \n",
      "3                         Rhodes Hotel              1   \n",
      "4                            The Savoy              1   \n",
      "..                                 ...            ...   \n",
      "967                     The Dorchester              1   \n",
      "968             Apex London Wall Hotel              1   \n",
      "969                      The Rembrandt              0   \n",
      "970  Hotel Xenia, Autograph Collection              1   \n",
      "971             Corinthia Hotel London              1   \n",
      "\n",
      "                                     Review_Title  \\\n",
      "0                           Ottima qualità prezzo   \n",
      "1              By far, my best hotel in the world   \n",
      "2    First visit to the American Bar at the Savoy   \n",
      "3                                       Nice stay   \n",
      "4                                      Perfection   \n",
      "..                                            ...   \n",
      "967                      Exceptional - as always!   \n",
      "968    Eine echte Empfehlung in der Londoner City   \n",
      "969                      Très bien situé mais ...   \n",
      "970                               Pleasant Enough   \n",
      "971                              ideal for London   \n",
      "\n",
      "                                           Review_Text  \n",
      "0    Siamo stati a Londra per un week end ed abbiam...  \n",
      "1    I had a pleasure of staying in this hotel for ...  \n",
      "2    A very lovely first visit to this iconic hotel...  \n",
      "3    3 of us stayed at the Rhodes Hotel for 4 night...  \n",
      "4    Form the moment we arrived until we left we ex...  \n",
      "..                                                 ...  \n",
      "967  As always, we had a great time at The Dorchest...  \n",
      "968  Hotel liegt etwas versteckt und daher auch für...  \n",
      "969  Hôtel idéalement situé pour bien visiter pas m...  \n",
      "970  I requested a terrace room, it wasn't really a...  \n",
      "971  Great for the clever traveller. We booked thre...  \n",
      "\n",
      "[972 rows x 4 columns]>\n"
     ]
    }
   ],
   "source": [
    "print (data.head)"
   ]
  },
  {
   "cell_type": "markdown",
   "metadata": {},
   "source": [
    "Check the polarity of the data"
   ]
  },
  {
   "cell_type": "code",
   "execution_count": 6,
   "metadata": {},
   "outputs": [
    {
     "data": {
      "text/plain": [
       "1    872\n",
       "0    100\n",
       "Name: Review_Rating, dtype: int64"
      ]
     },
     "execution_count": 6,
     "metadata": {},
     "output_type": "execute_result"
    }
   ],
   "source": [
    "data.Review_Rating.value_counts()\n"
   ]
  },
  {
   "cell_type": "code",
   "execution_count": 7,
   "metadata": {},
   "outputs": [
    {
     "data": {
      "text/plain": [
       "Property Name    object\n",
       "Review_Rating     int64\n",
       "Review_Title     object\n",
       "Review_Text      object\n",
       "dtype: object"
      ]
     },
     "execution_count": 7,
     "metadata": {},
     "output_type": "execute_result"
    }
   ],
   "source": [
    "data.dtypes"
   ]
  },
  {
   "cell_type": "code",
   "execution_count": 9,
   "metadata": {},
   "outputs": [],
   "source": [
    "pos = []\n",
    "neg = []\n",
    "for l in data.Review_Rating:\n",
    "    if l == 0:\n",
    "        pos.append(0)\n",
    "        neg.append(1)\n",
    "    elif l == 1:\n",
    "        pos.append(1)\n",
    "        neg.append(0)"
   ]
  },
  {
   "cell_type": "code",
   "execution_count": 10,
   "metadata": {},
   "outputs": [],
   "source": [
    "data['Pos']= pos\n",
    "data['Neg']= neg"
   ]
  },
  {
   "cell_type": "code",
   "execution_count": 13,
   "metadata": {},
   "outputs": [
    {
     "data": {
      "text/html": [
       "<div>\n",
       "<style scoped>\n",
       "    .dataframe tbody tr th:only-of-type {\n",
       "        vertical-align: middle;\n",
       "    }\n",
       "\n",
       "    .dataframe tbody tr th {\n",
       "        vertical-align: top;\n",
       "    }\n",
       "\n",
       "    .dataframe thead th {\n",
       "        text-align: right;\n",
       "    }\n",
       "</style>\n",
       "<table border=\"1\" class=\"dataframe\">\n",
       "  <thead>\n",
       "    <tr style=\"text-align: right;\">\n",
       "      <th></th>\n",
       "      <th>Property Name</th>\n",
       "      <th>Review_Rating</th>\n",
       "      <th>Review_Title</th>\n",
       "      <th>Review_Text</th>\n",
       "      <th>Pos</th>\n",
       "      <th>Neg</th>\n",
       "    </tr>\n",
       "  </thead>\n",
       "  <tbody>\n",
       "    <tr>\n",
       "      <th>0</th>\n",
       "      <td>Apex London Wall Hotel</td>\n",
       "      <td>1</td>\n",
       "      <td>Ottima qualità prezzo</td>\n",
       "      <td>Siamo stati a Londra per un week end ed abbiam...</td>\n",
       "      <td>1</td>\n",
       "      <td>0</td>\n",
       "    </tr>\n",
       "    <tr>\n",
       "      <th>1</th>\n",
       "      <td>Corinthia Hotel London</td>\n",
       "      <td>1</td>\n",
       "      <td>By far, my best hotel in the world</td>\n",
       "      <td>I had a pleasure of staying in this hotel for ...</td>\n",
       "      <td>1</td>\n",
       "      <td>0</td>\n",
       "    </tr>\n",
       "    <tr>\n",
       "      <th>2</th>\n",
       "      <td>The Savoy</td>\n",
       "      <td>1</td>\n",
       "      <td>First visit to the American Bar at the Savoy</td>\n",
       "      <td>A very lovely first visit to this iconic hotel...</td>\n",
       "      <td>1</td>\n",
       "      <td>0</td>\n",
       "    </tr>\n",
       "    <tr>\n",
       "      <th>3</th>\n",
       "      <td>Rhodes Hotel</td>\n",
       "      <td>1</td>\n",
       "      <td>Nice stay</td>\n",
       "      <td>3 of us stayed at the Rhodes Hotel for 4 night...</td>\n",
       "      <td>1</td>\n",
       "      <td>0</td>\n",
       "    </tr>\n",
       "    <tr>\n",
       "      <th>4</th>\n",
       "      <td>The Savoy</td>\n",
       "      <td>1</td>\n",
       "      <td>Perfection</td>\n",
       "      <td>Form the moment we arrived until we left we ex...</td>\n",
       "      <td>1</td>\n",
       "      <td>0</td>\n",
       "    </tr>\n",
       "  </tbody>\n",
       "</table>\n",
       "</div>"
      ],
      "text/plain": [
       "            Property Name  Review_Rating  \\\n",
       "0  Apex London Wall Hotel              1   \n",
       "1  Corinthia Hotel London              1   \n",
       "2               The Savoy              1   \n",
       "3            Rhodes Hotel              1   \n",
       "4               The Savoy              1   \n",
       "\n",
       "                                   Review_Title  \\\n",
       "0                         Ottima qualità prezzo   \n",
       "1            By far, my best hotel in the world   \n",
       "2  First visit to the American Bar at the Savoy   \n",
       "3                                     Nice stay   \n",
       "4                                    Perfection   \n",
       "\n",
       "                                         Review_Text  Pos  Neg  \n",
       "0  Siamo stati a Londra per un week end ed abbiam...    1    0  \n",
       "1  I had a pleasure of staying in this hotel for ...    1    0  \n",
       "2  A very lovely first visit to this iconic hotel...    1    0  \n",
       "3  3 of us stayed at the Rhodes Hotel for 4 night...    1    0  \n",
       "4  Form the moment we arrived until we left we ex...    1    0  "
      ]
     },
     "execution_count": 13,
     "metadata": {},
     "output_type": "execute_result"
    }
   ],
   "source": [
    "data.head()\n"
   ]
  },
  {
   "cell_type": "code",
   "execution_count": 11,
   "metadata": {},
   "outputs": [
    {
     "data": {
      "text/plain": [
       "(972, 6)"
      ]
     },
     "execution_count": 11,
     "metadata": {},
     "output_type": "execute_result"
    }
   ],
   "source": [
    "data.shape"
   ]
  },
  {
   "cell_type": "code",
   "execution_count": null,
   "metadata": {},
   "outputs": [],
   "source": [
    "Remove the punctuation marks "
   ]
  },
  {
   "cell_type": "code",
   "execution_count": 12,
   "metadata": {},
   "outputs": [],
   "source": [
    "def remove_punct(text):\n",
    "    text_nopunct = ''\n",
    "    text_nopunct = re.sub('['+string.punctuation+']', '', text)\n",
    "    return text_nopunct\n",
    "\n",
    "data['Text_Clean'] = data['Review_Text'].apply(lambda x: remove_punct(x))"
   ]
  },
  {
   "cell_type": "code",
   "execution_count": 13,
   "metadata": {},
   "outputs": [
    {
     "data": {
      "text/plain": [
       "0      Siamo stati a Londra per un week end ed abbiam...\n",
       "1      I had a pleasure of staying in this hotel for ...\n",
       "2      A very lovely first visit to this iconic hotel...\n",
       "3      3 of us stayed at the Rhodes Hotel for 4 night...\n",
       "4      Form the moment we arrived until we left we ex...\n",
       "                             ...                        \n",
       "967    As always we had a great time at The Dorcheste...\n",
       "968    Hotel liegt etwas versteckt und daher auch für...\n",
       "969    Hôtel idéalement situé pour bien visiter pas m...\n",
       "970    I requested a terrace room it wasnt really a t...\n",
       "971    Great for the clever traveller We booked three...\n",
       "Name: Text_Clean, Length: 972, dtype: object"
      ]
     },
     "execution_count": 13,
     "metadata": {},
     "output_type": "execute_result"
    }
   ],
   "source": [
    "data.Text_Clean"
   ]
  },
  {
   "cell_type": "code",
   "execution_count": 14,
   "metadata": {},
   "outputs": [],
   "source": [
    "tokens = [word_tokenize(sen) for sen in data.Text_Clean]  #tokenize the data"
   ]
  },
  {
   "cell_type": "markdown",
   "metadata": {},
   "source": [
    "Then make all words in tokens in lowercase"
   ]
  },
  {
   "cell_type": "code",
   "execution_count": 18,
   "metadata": {},
   "outputs": [],
   "source": [
    "def lower_token(tokens): \n",
    "    return [w.lower() for w in tokens]    \n",
    "    \n",
    "lower_tokens = [lower_token(token) for token in tokens]"
   ]
  },
  {
   "cell_type": "markdown",
   "metadata": {},
   "source": [
    "Removing Stop words"
   ]
  },
  {
   "cell_type": "code",
   "execution_count": 19,
   "metadata": {},
   "outputs": [],
   "source": [
    "stoplist = stopwords.words('english')\n",
    "def removeStopWords(tokens): \n",
    "    return [word for word in tokens if word not in stoplist]\n",
    "filtered_words = [removeStopWords(sen) for sen in lower_tokens]\n",
    "data['Text_Final'] = [' '.join(sen) for sen in filtered_words]\n",
    "data['tokens'] = filtered_words"
   ]
  },
  {
   "cell_type": "code",
   "execution_count": 20,
   "metadata": {},
   "outputs": [
    {
     "data": {
      "text/html": [
       "<div>\n",
       "<style scoped>\n",
       "    .dataframe tbody tr th:only-of-type {\n",
       "        vertical-align: middle;\n",
       "    }\n",
       "\n",
       "    .dataframe tbody tr th {\n",
       "        vertical-align: top;\n",
       "    }\n",
       "\n",
       "    .dataframe thead th {\n",
       "        text-align: right;\n",
       "    }\n",
       "</style>\n",
       "<table border=\"1\" class=\"dataframe\">\n",
       "  <thead>\n",
       "    <tr style=\"text-align: right;\">\n",
       "      <th></th>\n",
       "      <th>Property Name</th>\n",
       "      <th>Review_Rating</th>\n",
       "      <th>Review_Title</th>\n",
       "      <th>Review_Text</th>\n",
       "      <th>Pos</th>\n",
       "      <th>Neg</th>\n",
       "      <th>Text_Clean</th>\n",
       "      <th>Text_Final</th>\n",
       "      <th>tokens</th>\n",
       "    </tr>\n",
       "  </thead>\n",
       "  <tbody>\n",
       "    <tr>\n",
       "      <th>0</th>\n",
       "      <td>Apex London Wall Hotel</td>\n",
       "      <td>1</td>\n",
       "      <td>Ottima qualità prezzo</td>\n",
       "      <td>Siamo stati a Londra per un week end ed abbiam...</td>\n",
       "      <td>1</td>\n",
       "      <td>0</td>\n",
       "      <td>Siamo stati a Londra per un week end ed abbiam...</td>\n",
       "      <td>siamo stati londra per un week end ed abbiamo ...</td>\n",
       "      <td>[siamo, stati, londra, per, un, week, end, ed,...</td>\n",
       "    </tr>\n",
       "    <tr>\n",
       "      <th>1</th>\n",
       "      <td>Corinthia Hotel London</td>\n",
       "      <td>1</td>\n",
       "      <td>By far, my best hotel in the world</td>\n",
       "      <td>I had a pleasure of staying in this hotel for ...</td>\n",
       "      <td>1</td>\n",
       "      <td>0</td>\n",
       "      <td>I had a pleasure of staying in this hotel for ...</td>\n",
       "      <td>pleasure staying hotel 7 nights recently hotel...</td>\n",
       "      <td>[pleasure, staying, hotel, 7, nights, recently...</td>\n",
       "    </tr>\n",
       "    <tr>\n",
       "      <th>2</th>\n",
       "      <td>The Savoy</td>\n",
       "      <td>1</td>\n",
       "      <td>First visit to the American Bar at the Savoy</td>\n",
       "      <td>A very lovely first visit to this iconic hotel...</td>\n",
       "      <td>1</td>\n",
       "      <td>0</td>\n",
       "      <td>A very lovely first visit to this iconic hotel...</td>\n",
       "      <td>lovely first visit iconic hotel bar wonderful ...</td>\n",
       "      <td>[lovely, first, visit, iconic, hotel, bar, won...</td>\n",
       "    </tr>\n",
       "    <tr>\n",
       "      <th>3</th>\n",
       "      <td>Rhodes Hotel</td>\n",
       "      <td>1</td>\n",
       "      <td>Nice stay</td>\n",
       "      <td>3 of us stayed at the Rhodes Hotel for 4 night...</td>\n",
       "      <td>1</td>\n",
       "      <td>0</td>\n",
       "      <td>3 of us stayed at the Rhodes Hotel for 4 night...</td>\n",
       "      <td>3 us stayed rhodes hotel 4 nights great locati...</td>\n",
       "      <td>[3, us, stayed, rhodes, hotel, 4, nights, grea...</td>\n",
       "    </tr>\n",
       "    <tr>\n",
       "      <th>4</th>\n",
       "      <td>The Savoy</td>\n",
       "      <td>1</td>\n",
       "      <td>Perfection</td>\n",
       "      <td>Form the moment we arrived until we left we ex...</td>\n",
       "      <td>1</td>\n",
       "      <td>0</td>\n",
       "      <td>Form the moment we arrived until we left we ex...</td>\n",
       "      <td>form moment arrived left experienced absolute ...</td>\n",
       "      <td>[form, moment, arrived, left, experienced, abs...</td>\n",
       "    </tr>\n",
       "  </tbody>\n",
       "</table>\n",
       "</div>"
      ],
      "text/plain": [
       "            Property Name  Review_Rating  \\\n",
       "0  Apex London Wall Hotel              1   \n",
       "1  Corinthia Hotel London              1   \n",
       "2               The Savoy              1   \n",
       "3            Rhodes Hotel              1   \n",
       "4               The Savoy              1   \n",
       "\n",
       "                                   Review_Title  \\\n",
       "0                         Ottima qualità prezzo   \n",
       "1            By far, my best hotel in the world   \n",
       "2  First visit to the American Bar at the Savoy   \n",
       "3                                     Nice stay   \n",
       "4                                    Perfection   \n",
       "\n",
       "                                         Review_Text  Pos  Neg  \\\n",
       "0  Siamo stati a Londra per un week end ed abbiam...    1    0   \n",
       "1  I had a pleasure of staying in this hotel for ...    1    0   \n",
       "2  A very lovely first visit to this iconic hotel...    1    0   \n",
       "3  3 of us stayed at the Rhodes Hotel for 4 night...    1    0   \n",
       "4  Form the moment we arrived until we left we ex...    1    0   \n",
       "\n",
       "                                          Text_Clean  \\\n",
       "0  Siamo stati a Londra per un week end ed abbiam...   \n",
       "1  I had a pleasure of staying in this hotel for ...   \n",
       "2  A very lovely first visit to this iconic hotel...   \n",
       "3  3 of us stayed at the Rhodes Hotel for 4 night...   \n",
       "4  Form the moment we arrived until we left we ex...   \n",
       "\n",
       "                                          Text_Final  \\\n",
       "0  siamo stati londra per un week end ed abbiamo ...   \n",
       "1  pleasure staying hotel 7 nights recently hotel...   \n",
       "2  lovely first visit iconic hotel bar wonderful ...   \n",
       "3  3 us stayed rhodes hotel 4 nights great locati...   \n",
       "4  form moment arrived left experienced absolute ...   \n",
       "\n",
       "                                              tokens  \n",
       "0  [siamo, stati, londra, per, un, week, end, ed,...  \n",
       "1  [pleasure, staying, hotel, 7, nights, recently...  \n",
       "2  [lovely, first, visit, iconic, hotel, bar, won...  \n",
       "3  [3, us, stayed, rhodes, hotel, 4, nights, grea...  \n",
       "4  [form, moment, arrived, left, experienced, abs...  "
      ]
     },
     "execution_count": 20,
     "metadata": {},
     "output_type": "execute_result"
    }
   ],
   "source": [
    "data.head()"
   ]
  },
  {
   "cell_type": "markdown",
   "metadata": {},
   "source": [
    "Split data into test and train\n"
   ]
  },
  {
   "cell_type": "code",
   "execution_count": 22,
   "metadata": {},
   "outputs": [],
   "source": [
    "data_train, data_test = train_test_split(data, \n",
    "                                         test_size=0.10, \n",
    "                                         random_state=42)"
   ]
  },
  {
   "cell_type": "markdown",
   "metadata": {},
   "source": [
    "let's see how many words we have and maximum sentence length in training dataset"
   ]
  },
  {
   "cell_type": "code",
   "execution_count": 23,
   "metadata": {},
   "outputs": [
    {
     "name": "stdout",
     "output_type": "stream",
     "text": [
      "63098 words total, with a vocabulary size of 10820\n",
      "Max sentence length is 771\n"
     ]
    }
   ],
   "source": [
    "all_training_words = [word for tokens in data_train[\"tokens\"] for word in tokens]\n",
    "training_sentence_lengths = [len(tokens) for tokens in data_train[\"tokens\"]]\n",
    "TRAINING_VOCAB = sorted(list(set(all_training_words)))\n",
    "print(\"%s words total, with a vocabulary size of %s\" % (len(all_training_words), len(TRAINING_VOCAB)))\n",
    "print(\"Max sentence length is %s\" % max(training_sentence_lengths))"
   ]
  },
  {
   "cell_type": "markdown",
   "metadata": {},
   "source": [
    "let's see how many words we have and maximum sentence length in test dataset"
   ]
  },
  {
   "cell_type": "code",
   "execution_count": 24,
   "metadata": {},
   "outputs": [
    {
     "name": "stdout",
     "output_type": "stream",
     "text": [
      "7045 words total, with a vocabulary size of 2481\n",
      "Max sentence length is 352\n"
     ]
    }
   ],
   "source": [
    "all_test_words = [word for tokens in data_test[\"tokens\"] for word in tokens]\n",
    "test_sentence_lengths = [len(tokens) for tokens in data_test[\"tokens\"]]\n",
    "TEST_VOCAB = sorted(list(set(all_test_words)))\n",
    "print(\"%s words total, with a vocabulary size of %s\" % (len(all_test_words), len(TEST_VOCAB)))\n",
    "print(\"Max sentence length is %s\" % max(test_sentence_lengths))"
   ]
  },
  {
   "cell_type": "markdown",
   "metadata": {},
   "source": [
    "Now we should convert the words into vector by embadding method such as word2vec"
   ]
  },
  {
   "cell_type": "code",
   "execution_count": null,
   "metadata": {},
   "outputs": [],
   "source": [
    "#Define paramthers\n",
    "MAX_SEQUENCE_LENGTH = 50 # the lenth of words in sentence\n",
    "EMBEDDING_DIM = 300"
   ]
  },
  {
   "cell_type": "code",
   "execution_count": 32,
   "metadata": {},
   "outputs": [],
   "source": [
    "word2vec = models.KeyedVectors.load_word2vec_format('GoogleNews-vectors-negative300.bin.gz', binary=True)"
   ]
  },
  {
   "cell_type": "code",
   "execution_count": 34,
   "metadata": {},
   "outputs": [
    {
     "name": "stdout",
     "output_type": "stream",
     "text": [
      "Found 10820 unique tokens.\n"
     ]
    }
   ],
   "source": [
    "tokenizer = Tokenizer(num_words=len(TRAINING_VOCAB), lower=True, char_level=False)\n",
    "tokenizer.fit_on_texts(data_train[\"Text_Final\"].tolist())\n",
    "training_sequences = tokenizer.texts_to_sequences(data_train[\"Text_Final\"].tolist())\n",
    "\n",
    "train_word_index = tokenizer.word_index\n",
    "print('Found %s unique tokens.' % len(train_word_index))"
   ]
  },
  {
   "cell_type": "code",
   "execution_count": 61,
   "metadata": {},
   "outputs": [
    {
     "name": "stdout",
     "output_type": "stream",
     "text": [
      "(10821, 300)\n"
     ]
    }
   ],
   "source": [
    "train_embedding_weights = np.zeros((len(train_word_index)+1, \n",
    " EMBEDDING_DIM))\n",
    "for word,index in train_word_index.items():\n",
    "    train_embedding_weights[index,:] = word2vec[word] if word in word2vec else np.random.rand(EMBEDDING_DIM)\n",
    "print(train_embedding_weights.shape)"
   ]
  },
  {
   "cell_type": "markdown",
   "metadata": {},
   "source": [
    "let's see how it looks"
   ]
  },
  {
   "cell_type": "code",
   "execution_count": 64,
   "metadata": {},
   "outputs": [
    {
     "data": {
      "text/plain": [
       "array([[ 0.        ,  0.        ,  0.        , ...,  0.        ,\n",
       "         0.        ,  0.        ],\n",
       "       [ 0.02612305,  0.0144043 , -0.03442383, ...,  0.15625   ,\n",
       "         0.09960938,  0.12695312],\n",
       "       [ 0.02624512,  0.1328125 , -0.0234375 , ...,  0.12158203,\n",
       "        -0.1328125 ,  0.10302734],\n",
       "       ...,\n",
       "       [-0.09472656, -0.15429688, -0.26367188, ..., -0.10644531,\n",
       "         0.04345703,  0.12255859],\n",
       "       [-0.14648438, -0.18457031,  0.11279297, ...,  0.29492188,\n",
       "         0.12597656, -0.11083984],\n",
       "       [ 0.25820179,  0.68346509,  0.52196713, ...,  0.62167443,\n",
       "         0.93203331,  0.20247044]])"
      ]
     },
     "execution_count": 64,
     "metadata": {},
     "output_type": "execute_result"
    }
   ],
   "source": [
    "train_embedding_weights"
   ]
  },
  {
   "cell_type": "code",
   "execution_count": 73,
   "metadata": {},
   "outputs": [],
   "source": [
    "test_sequences = tokenizer.texts_to_sequences(data_test[\"Text_Final\"].tolist())\n",
    "test_RNN_data = pad_sequences(test_sequences, maxlen=MAX_SEQUENCE_LENGTH)\n",
    "train_RNN_data = pad_sequences(training_sequences, maxlen=MAX_SEQUENCE_LENGTH)\n"
   ]
  },
  {
   "cell_type": "markdown",
   "metadata": {},
   "source": [
    "After padding please refer to padding in other reference"
   ]
  },
  {
   "cell_type": "code",
   "execution_count": 71,
   "metadata": {},
   "outputs": [
    {
     "data": {
      "text/plain": [
       "array([[ 637,    4,    9, ...,  494,  624,    5],\n",
       "       [   0,    0,    0, ...,   48,  192,    4],\n",
       "       [ 379,   58,  380, ..., 2738, 2794,   23],\n",
       "       ...,\n",
       "       [   0,    0,    0, ...,  900,   21,    1],\n",
       "       [ 395,    4,   34, ...,    8,  848,    5],\n",
       "       [1088,  692,  137, ...,  118,   54, 1088]])"
      ]
     },
     "execution_count": 71,
     "metadata": {},
     "output_type": "execute_result"
    }
   ],
   "source": [
    "test_RNN_data"
   ]
  },
  {
   "cell_type": "code",
   "execution_count": 74,
   "metadata": {},
   "outputs": [],
   "source": [
    "Rating_names = ['Pos', 'Neg']\n",
    "input_train = train_RNN_data  # input of the neural nework\n",
    "output_train = data_train[Rating_names].values  # output of neural network\n",
    "\n"
   ]
  },
  {
   "cell_type": "markdown",
   "metadata": {},
   "source": [
    "We will build model based on RNN and LSTM"
   ]
  },
  {
   "cell_type": "code",
   "execution_count": 45,
   "metadata": {},
   "outputs": [],
   "source": [
    "def rnn(embeddings, \n",
    "        max_sequence_length, \n",
    "        num_words, \n",
    "        embedding_dim, \n",
    "        labels_index):\n",
    "    \n",
    "    embedding_layer = Embedding(num_words,\n",
    "                                embedding_dim,\n",
    "                                weights=[embeddings],\n",
    "                                input_length=max_sequence_length,\n",
    "                                trainable=False)\n",
    "    \n",
    "    sequence_input = Input(shape=(max_sequence_length,),\n",
    "                                  dtype='int32')\n",
    "    embedded_sequences = embedding_layer(sequence_input)\n",
    "    lstm = LSTM(256)(embedded_sequences)\n",
    "    \n",
    "    x = Dense(128, activation='relu')(lstm)\n",
    "    x = Dropout(0.2)(x)\n",
    "    preds = Dense(labels_index, activation='sigmoid')(x)\n",
    "    model = Model(sequence_input, preds)\n",
    "    model.compile(loss='binary_crossentropy',\n",
    "                  optimizer='adam',\n",
    "                  metrics=['acc'])\n",
    "    model.summary()\n",
    "    return model"
   ]
  },
  {
   "cell_type": "code",
   "execution_count": 53,
   "metadata": {},
   "outputs": [
    {
     "name": "stdout",
     "output_type": "stream",
     "text": [
      "Model: \"model_1\"\n",
      "_________________________________________________________________\n",
      "Layer (type)                 Output Shape              Param #   \n",
      "=================================================================\n",
      "input_1 (InputLayer)         (None, 50)                0         \n",
      "_________________________________________________________________\n",
      "embedding_1 (Embedding)      (None, 50, 300)           3246300   \n",
      "_________________________________________________________________\n",
      "lstm_1 (LSTM)                (None, 256)               570368    \n",
      "_________________________________________________________________\n",
      "dense_1 (Dense)              (None, 128)               32896     \n",
      "_________________________________________________________________\n",
      "dropout_1 (Dropout)          (None, 128)               0         \n",
      "_________________________________________________________________\n",
      "dense_2 (Dense)              (None, 2)                 258       \n",
      "=================================================================\n",
      "Total params: 3,849,822\n",
      "Trainable params: 603,522\n",
      "Non-trainable params: 3,246,300\n",
      "_________________________________________________________________\n"
     ]
    }
   ],
   "source": [
    "model = rnn(train_embedding_weights, \n",
    "            MAX_SEQUENCE_LENGTH, \n",
    "            len(train_word_index)+1, \n",
    "            EMBEDDING_DIM, \n",
    "            len(list(Rating_names)))"
   ]
  },
  {
   "cell_type": "code",
   "execution_count": 76,
   "metadata": {},
   "outputs": [
    {
     "name": "stdout",
     "output_type": "stream",
     "text": [
      "Train on 786 samples, validate on 88 samples\n",
      "Epoch 1/10\n",
      "786/786 [==============================] - 57s 73ms/step - loss: 0.2073 - acc: 0.9256 - val_loss: 0.2432 - val_acc: 0.8977\n",
      "Epoch 2/10\n",
      "786/786 [==============================] - 56s 71ms/step - loss: 0.1987 - acc: 0.9249 - val_loss: 0.2921 - val_acc: 0.9034\n",
      "Epoch 3/10\n",
      "786/786 [==============================] - 55s 70ms/step - loss: 0.2440 - acc: 0.9065 - val_loss: 0.2192 - val_acc: 0.8977\n",
      "Epoch 4/10\n",
      "786/786 [==============================] - 56s 71ms/step - loss: 0.1452 - acc: 0.9440 - val_loss: 0.2499 - val_acc: 0.9091\n",
      "Epoch 5/10\n",
      "786/786 [==============================] - 59s 75ms/step - loss: 0.1332 - acc: 0.9542 - val_loss: 0.2232 - val_acc: 0.9148\n",
      "Epoch 6/10\n",
      "786/786 [==============================] - 62s 79ms/step - loss: 0.1547 - acc: 0.9478 - val_loss: 0.2900 - val_acc: 0.8864\n",
      "Epoch 7/10\n",
      "786/786 [==============================] - 65s 83ms/step - loss: 0.1003 - acc: 0.9663 - val_loss: 0.2519 - val_acc: 0.9091\n",
      "Epoch 8/10\n",
      "786/786 [==============================] - 64s 81ms/step - loss: 0.0743 - acc: 0.9739 - val_loss: 0.2132 - val_acc: 0.9034\n",
      "Epoch 9/10\n",
      "786/786 [==============================] - 63s 80ms/step - loss: 0.0509 - acc: 0.9892 - val_loss: 0.2515 - val_acc: 0.9318\n",
      "Epoch 10/10\n",
      "786/786 [==============================] - 73s 93ms/step - loss: 0.0358 - acc: 0.9911 - val_loss: 0.3240 - val_acc: 0.9091\n"
     ]
    }
   ],
   "source": [
    "#Train the model by our dataset\n",
    "num_iteration = 10\n",
    "batch_size = 34\n",
    "hist = model.fit(input_train, output_train, epochs=num_iteration, validation_split=0.1, shuffle=True, batch_size=batch_size)\n"
   ]
  },
  {
   "cell_type": "code",
   "execution_count": 77,
   "metadata": {},
   "outputs": [
    {
     "name": "stdout",
     "output_type": "stream",
     "text": [
      "\r",
      "98/98 [==============================] - 2s 24ms/step\n"
     ]
    }
   ],
   "source": [
    "predictions = model.predict(test_RNN_data, batch_size=1024, verbose=1)\n"
   ]
  },
  {
   "cell_type": "code",
   "execution_count": 78,
   "metadata": {},
   "outputs": [],
   "source": [
    "labels = [1, 0]\n"
   ]
  },
  {
   "cell_type": "code",
   "execution_count": 79,
   "metadata": {},
   "outputs": [],
   "source": [
    "prediction_labels=[]\n",
    "for p in predictions:\n",
    "    prediction_labels.append(labels[np.argmax(p)])"
   ]
  },
  {
   "cell_type": "code",
   "execution_count": 80,
   "metadata": {},
   "outputs": [
    {
     "data": {
      "text/plain": [
       "0.8673469387755102"
      ]
     },
     "execution_count": 80,
     "metadata": {},
     "output_type": "execute_result"
    }
   ],
   "source": [
    "sum(data_test.Review_Rating==prediction_labels)/len(prediction_labels)\n"
   ]
  },
  {
   "cell_type": "markdown",
   "metadata": {},
   "source": [
    "So our prediction is about 87% which consider good for a small dataset that we used"
   ]
  }
 ],
 "metadata": {
  "kernelspec": {
   "display_name": "Python 3",
   "language": "python",
   "name": "python3"
  },
  "language_info": {
   "codemirror_mode": {
    "name": "ipython",
    "version": 3
   },
   "file_extension": ".py",
   "mimetype": "text/x-python",
   "name": "python",
   "nbconvert_exporter": "python",
   "pygments_lexer": "ipython3",
   "version": "3.7.7"
  }
 },
 "nbformat": 4,
 "nbformat_minor": 4
}
